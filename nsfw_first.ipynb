{
 "cells": [
  {
   "cell_type": "code",
   "execution_count": null,
   "id": "68cd130d",
   "metadata": {},
   "outputs": [
    {
     "name": "stdout",
     "output_type": "stream",
     "text": [
      "Current working directory: c:\\Users\\Darina\\Downloads\\nsfw_detector_api\n",
      "WARNING:tensorflow:SavedModel saved prior to TF 2.5 detected when loading Keras model. Please ensure that you are saving the model with model.save() or tf.keras.models.save_model(), *NOT* tf.saved_model.save(). To confirm, there should be a file named \"keras_metadata.pb\" in the SavedModel directory.\n",
      "WARNING:tensorflow:Please fix your imports. Module tensorflow.python.training.tracking.data_structures has been moved to tensorflow.python.trackable.data_structures. The old module will be deleted in version 2.11.\n",
      "./uploads/p_actor.PNG size: (224, 224)\n",
      "1/1 [==============================] - 1s 1s/step\n",
      "{'./uploads/p_actor.PNG': {'drawings': 0.020354507490992546, 'hentai': 0.016344550997018814, 'neutral': 0.025960473343729973, 'porn': 0.9204000234603882, 'sexy': 0.016940314322710037}}\n"
     ]
    }
   ],
   "source": [
    "import sys\n",
    "import os\n",
    "\n",
    "# Change working directory to nsfw_detector\n",
    "\n",
    "print(\"Current working directory:\", os.getcwd())\n",
    "\n",
    "from nsfw_detector import predict\n",
    "\n",
    "# Load model using relative path from the new working directory\n",
    "model = predict.load_model('./model/nsfw_mobilenet_v2_140_224/mobilenet_v2_140_224')\n",
    "\n",
    "# Predict single image using path relative to new working directory\n",
    "result = predict.classify(model, './uploads/p_actor.PNG')\n",
    "print(result)\n"
   ]
  },
  {
   "cell_type": "code",
   "execution_count": 4,
   "id": "511d7e16",
   "metadata": {},
   "outputs": [
    {
     "name": "stdout",
     "output_type": "stream",
     "text": [
      "Defaulting to user installation because normal site-packages is not writeable\n",
      "Obtaining file:///C:/Users/Darina/Downloads/nsfw_detector_api/model/nsfw_model-master\n",
      "  Preparing metadata (setup.py): started\n",
      "  Preparing metadata (setup.py): finished with status 'done'\n",
      "Requirement already satisfied: tensorflow-hub==0.12.0 in c:\\users\\darina\\appdata\\roaming\\python\\python310\\site-packages (from nsfw_detector==1.3.0) (0.12.0)\n",
      "Requirement already satisfied: pillow in c:\\users\\darina\\appdata\\roaming\\python\\python310\\site-packages (from nsfw_detector==1.3.0) (11.3.0)\n",
      "Requirement already satisfied: numpy in c:\\users\\darina\\appdata\\roaming\\python\\python310\\site-packages (from nsfw_detector==1.3.0) (1.23.5)\n",
      "Requirement already satisfied: tensorflow>=2.2.0 in c:\\users\\darina\\appdata\\roaming\\python\\python310\\site-packages (from nsfw_detector==1.3.0) (2.10.0)\n",
      "Requirement already satisfied: protobuf>=3.8.0 in c:\\users\\darina\\appdata\\roaming\\python\\python310\\site-packages (from tensorflow-hub==0.12.0->nsfw_detector==1.3.0) (3.19.6)\n",
      "Requirement already satisfied: absl-py>=1.0.0 in c:\\users\\darina\\appdata\\roaming\\python\\python310\\site-packages (from tensorflow>=2.2.0->nsfw_detector==1.3.0) (2.3.1)\n",
      "Requirement already satisfied: astunparse>=1.6.0 in c:\\users\\darina\\appdata\\roaming\\python\\python310\\site-packages (from tensorflow>=2.2.0->nsfw_detector==1.3.0) (1.6.3)\n",
      "Requirement already satisfied: flatbuffers>=2.0 in c:\\users\\darina\\appdata\\roaming\\python\\python310\\site-packages (from tensorflow>=2.2.0->nsfw_detector==1.3.0) (25.2.10)\n",
      "Requirement already satisfied: gast<=0.4.0,>=0.2.1 in c:\\users\\darina\\appdata\\roaming\\python\\python310\\site-packages (from tensorflow>=2.2.0->nsfw_detector==1.3.0) (0.4.0)\n",
      "Requirement already satisfied: google-pasta>=0.1.1 in c:\\users\\darina\\appdata\\roaming\\python\\python310\\site-packages (from tensorflow>=2.2.0->nsfw_detector==1.3.0) (0.2.0)\n",
      "Requirement already satisfied: h5py>=2.9.0 in c:\\users\\darina\\appdata\\roaming\\python\\python310\\site-packages (from tensorflow>=2.2.0->nsfw_detector==1.3.0) (3.14.0)\n",
      "Requirement already satisfied: keras-preprocessing>=1.1.1 in c:\\users\\darina\\appdata\\roaming\\python\\python310\\site-packages (from tensorflow>=2.2.0->nsfw_detector==1.3.0) (1.1.2)\n",
      "Requirement already satisfied: libclang>=13.0.0 in c:\\users\\darina\\appdata\\roaming\\python\\python310\\site-packages (from tensorflow>=2.2.0->nsfw_detector==1.3.0) (18.1.1)\n",
      "Requirement already satisfied: opt-einsum>=2.3.2 in c:\\users\\darina\\appdata\\roaming\\python\\python310\\site-packages (from tensorflow>=2.2.0->nsfw_detector==1.3.0) (3.4.0)\n",
      "Requirement already satisfied: packaging in c:\\users\\darina\\appdata\\roaming\\python\\python310\\site-packages (from tensorflow>=2.2.0->nsfw_detector==1.3.0) (25.0)\n",
      "Requirement already satisfied: setuptools in c:\\users\\darina\\appdata\\roaming\\python\\python310\\site-packages (from tensorflow>=2.2.0->nsfw_detector==1.3.0) (80.9.0)\n",
      "Requirement already satisfied: six>=1.12.0 in c:\\users\\darina\\appdata\\roaming\\python\\python310\\site-packages (from tensorflow>=2.2.0->nsfw_detector==1.3.0) (1.17.0)\n",
      "Requirement already satisfied: termcolor>=1.1.0 in c:\\users\\darina\\appdata\\roaming\\python\\python310\\site-packages (from tensorflow>=2.2.0->nsfw_detector==1.3.0) (3.1.0)\n",
      "Requirement already satisfied: typing-extensions>=3.6.6 in c:\\users\\darina\\appdata\\roaming\\python\\python310\\site-packages (from tensorflow>=2.2.0->nsfw_detector==1.3.0) (4.14.1)\n",
      "Requirement already satisfied: wrapt>=1.11.0 in c:\\users\\darina\\appdata\\roaming\\python\\python310\\site-packages (from tensorflow>=2.2.0->nsfw_detector==1.3.0) (1.17.2)\n",
      "Requirement already satisfied: tensorflow-io-gcs-filesystem>=0.23.1 in c:\\users\\darina\\appdata\\roaming\\python\\python310\\site-packages (from tensorflow>=2.2.0->nsfw_detector==1.3.0) (0.31.0)\n",
      "Requirement already satisfied: grpcio<2.0,>=1.24.3 in c:\\users\\darina\\appdata\\roaming\\python\\python310\\site-packages (from tensorflow>=2.2.0->nsfw_detector==1.3.0) (1.74.0)\n",
      "Requirement already satisfied: tensorboard<2.11,>=2.10 in c:\\users\\darina\\appdata\\roaming\\python\\python310\\site-packages (from tensorflow>=2.2.0->nsfw_detector==1.3.0) (2.10.1)\n",
      "Requirement already satisfied: tensorflow-estimator<2.11,>=2.10.0 in c:\\users\\darina\\appdata\\roaming\\python\\python310\\site-packages (from tensorflow>=2.2.0->nsfw_detector==1.3.0) (2.10.0)\n",
      "Requirement already satisfied: keras<2.11,>=2.10.0 in c:\\users\\darina\\appdata\\roaming\\python\\python310\\site-packages (from tensorflow>=2.2.0->nsfw_detector==1.3.0) (2.10.0)\n",
      "Requirement already satisfied: google-auth<3,>=1.6.3 in c:\\users\\darina\\appdata\\roaming\\python\\python310\\site-packages (from tensorboard<2.11,>=2.10->tensorflow>=2.2.0->nsfw_detector==1.3.0) (2.40.3)\n",
      "Requirement already satisfied: google-auth-oauthlib<0.5,>=0.4.1 in c:\\users\\darina\\appdata\\roaming\\python\\python310\\site-packages (from tensorboard<2.11,>=2.10->tensorflow>=2.2.0->nsfw_detector==1.3.0) (0.4.6)\n",
      "Requirement already satisfied: markdown>=2.6.8 in c:\\users\\darina\\appdata\\roaming\\python\\python310\\site-packages (from tensorboard<2.11,>=2.10->tensorflow>=2.2.0->nsfw_detector==1.3.0) (3.8.2)\n",
      "Requirement already satisfied: requests<3,>=2.21.0 in c:\\users\\darina\\appdata\\roaming\\python\\python310\\site-packages (from tensorboard<2.11,>=2.10->tensorflow>=2.2.0->nsfw_detector==1.3.0) (2.32.4)\n",
      "Requirement already satisfied: tensorboard-data-server<0.7.0,>=0.6.0 in c:\\users\\darina\\appdata\\roaming\\python\\python310\\site-packages (from tensorboard<2.11,>=2.10->tensorflow>=2.2.0->nsfw_detector==1.3.0) (0.6.1)\n",
      "Requirement already satisfied: tensorboard-plugin-wit>=1.6.0 in c:\\users\\darina\\appdata\\roaming\\python\\python310\\site-packages (from tensorboard<2.11,>=2.10->tensorflow>=2.2.0->nsfw_detector==1.3.0) (1.8.1)\n",
      "Requirement already satisfied: werkzeug>=1.0.1 in c:\\users\\darina\\appdata\\roaming\\python\\python310\\site-packages (from tensorboard<2.11,>=2.10->tensorflow>=2.2.0->nsfw_detector==1.3.0) (3.1.3)\n",
      "Requirement already satisfied: wheel>=0.26 in c:\\users\\darina\\appdata\\roaming\\python\\python310\\site-packages (from tensorboard<2.11,>=2.10->tensorflow>=2.2.0->nsfw_detector==1.3.0) (0.45.1)\n",
      "Requirement already satisfied: cachetools<6.0,>=2.0.0 in c:\\users\\darina\\appdata\\roaming\\python\\python310\\site-packages (from google-auth<3,>=1.6.3->tensorboard<2.11,>=2.10->tensorflow>=2.2.0->nsfw_detector==1.3.0) (5.5.2)\n",
      "Requirement already satisfied: pyasn1-modules>=0.2.1 in c:\\users\\darina\\appdata\\roaming\\python\\python310\\site-packages (from google-auth<3,>=1.6.3->tensorboard<2.11,>=2.10->tensorflow>=2.2.0->nsfw_detector==1.3.0) (0.4.2)\n",
      "Requirement already satisfied: rsa<5,>=3.1.4 in c:\\users\\darina\\appdata\\roaming\\python\\python310\\site-packages (from google-auth<3,>=1.6.3->tensorboard<2.11,>=2.10->tensorflow>=2.2.0->nsfw_detector==1.3.0) (4.9.1)\n",
      "Requirement already satisfied: requests-oauthlib>=0.7.0 in c:\\users\\darina\\appdata\\roaming\\python\\python310\\site-packages (from google-auth-oauthlib<0.5,>=0.4.1->tensorboard<2.11,>=2.10->tensorflow>=2.2.0->nsfw_detector==1.3.0) (2.0.0)\n",
      "Requirement already satisfied: charset_normalizer<4,>=2 in c:\\users\\darina\\appdata\\roaming\\python\\python310\\site-packages (from requests<3,>=2.21.0->tensorboard<2.11,>=2.10->tensorflow>=2.2.0->nsfw_detector==1.3.0) (3.4.2)\n",
      "Requirement already satisfied: idna<4,>=2.5 in c:\\users\\darina\\appdata\\roaming\\python\\python310\\site-packages (from requests<3,>=2.21.0->tensorboard<2.11,>=2.10->tensorflow>=2.2.0->nsfw_detector==1.3.0) (3.10)\n",
      "Requirement already satisfied: urllib3<3,>=1.21.1 in c:\\users\\darina\\appdata\\roaming\\python\\python310\\site-packages (from requests<3,>=2.21.0->tensorboard<2.11,>=2.10->tensorflow>=2.2.0->nsfw_detector==1.3.0) (2.5.0)\n",
      "Requirement already satisfied: certifi>=2017.4.17 in c:\\users\\darina\\appdata\\roaming\\python\\python310\\site-packages (from requests<3,>=2.21.0->tensorboard<2.11,>=2.10->tensorflow>=2.2.0->nsfw_detector==1.3.0) (2025.7.14)\n",
      "Requirement already satisfied: pyasn1>=0.1.3 in c:\\users\\darina\\appdata\\roaming\\python\\python310\\site-packages (from rsa<5,>=3.1.4->google-auth<3,>=1.6.3->tensorboard<2.11,>=2.10->tensorflow>=2.2.0->nsfw_detector==1.3.0) (0.6.1)\n",
      "Requirement already satisfied: oauthlib>=3.0.0 in c:\\users\\darina\\appdata\\roaming\\python\\python310\\site-packages (from requests-oauthlib>=0.7.0->google-auth-oauthlib<0.5,>=0.4.1->tensorboard<2.11,>=2.10->tensorflow>=2.2.0->nsfw_detector==1.3.0) (3.3.1)\n",
      "Requirement already satisfied: MarkupSafe>=2.1.1 in c:\\users\\darina\\appdata\\roaming\\python\\python310\\site-packages (from werkzeug>=1.0.1->tensorboard<2.11,>=2.10->tensorflow>=2.2.0->nsfw_detector==1.3.0) (3.0.2)\n",
      "Installing collected packages: nsfw_detector\n",
      "  Attempting uninstall: nsfw_detector\n",
      "    Found existing installation: nsfw_detector 1.3.0\n",
      "    Uninstalling nsfw_detector-1.3.0:\n",
      "      Successfully uninstalled nsfw_detector-1.3.0\n",
      "  Running setup.py develop for nsfw_detector\n",
      "Successfully installed nsfw_detector-1.3.0\n",
      "Note: you may need to restart the kernel to use updated packages.\n"
     ]
    },
    {
     "name": "stderr",
     "output_type": "stream",
     "text": [
      "  DEPRECATION: Legacy editable install of nsfw_detector==1.3.0 from file:///C:/Users/Darina/Downloads/nsfw_detector_api/model/nsfw_model-master (setup.py develop) is deprecated. pip 25.3 will enforce this behaviour change. A possible replacement is to add a pyproject.toml or enable --use-pep517, and use setuptools >= 64. If the resulting installation is not behaving as expected, try using --config-settings editable_mode=compat. Please consult the setuptools documentation for more information. Discussion can be found at https://github.com/pypa/pip/issues/11457\n"
     ]
    }
   ],
   "source": [
    "pip install -e \"C:/Users/Darina/Downloads/nsfw_detector_api/model/nsfw_model-master\"\n"
   ]
  }
 ],
 "metadata": {
  "kernelspec": {
   "display_name": "Python 3",
   "language": "python",
   "name": "python3"
  },
  "language_info": {
   "codemirror_mode": {
    "name": "ipython",
    "version": 3
   },
   "file_extension": ".py",
   "mimetype": "text/x-python",
   "name": "python",
   "nbconvert_exporter": "python",
   "pygments_lexer": "ipython3",
   "version": "3.10.0"
  }
 },
 "nbformat": 4,
 "nbformat_minor": 5
}
